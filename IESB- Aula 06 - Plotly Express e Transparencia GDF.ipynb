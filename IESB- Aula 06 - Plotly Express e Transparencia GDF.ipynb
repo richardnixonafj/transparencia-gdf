{
 "cells": [
  {
   "cell_type": "markdown",
   "metadata": {},
   "source": [
    "## Trabalho - Aula 06 - Data Discovery e Data Visualization\n",
    "\n",
    "O objetivo dessa aula é trabalhar com Plotly Express e com o dataset do Portal da Transparência do GDF.\n",
    "\n",
    "Biblioteca de gráficos exemplos do Plotly Express https://plotly.com/python/plotly-express/\n",
    "\n",
    "Fonte dos dados: http://www.transparencia.df.gov.br/#/downloads\n",
    "\n",
    "Mês de referência: 05/2020"
   ]
  },
  {
   "cell_type": "code",
   "execution_count": 5,
   "metadata": {},
   "outputs": [],
   "source": [
    "# Importando Plotly Express e trabalhando com datasets básicos \n",
    "import plotly.express as px"
   ]
  },
  {
   "cell_type": "code",
   "execution_count": 12,
   "metadata": {
    "scrolled": true
   },
   "outputs": [
    {
     "name": "stderr",
     "output_type": "stream",
     "text": [
      "/home/president/anaconda3/lib/python3.7/site-packages/IPython/core/interactiveshell.py:3063: DtypeWarning:\n",
      "\n",
      "Columns (9) have mixed types.Specify dtype option on import or set low_memory=False.\n",
      "\n"
     ]
    }
   ],
   "source": [
    "# Arquivo Remuneracao_2020_05.csv com 236719 Registros.\n",
    "# Só foram mantidas as colunas: NOME\tÓRGÃO\tCARGO\tFUNÇÃO\tSITUAÇÃO\tBRUTO\tLÍQUIDO\n",
    "# Tamanho aproximado após a remoção limpeza inicial 56.4 mb\n",
    "\n",
    "import pandas as pd\n",
    "df = pd.read_csv(\"Remuneracao_2020_05.csv\", encoding='iso-8859-1',sep=';', decimal=',')"
   ]
  },
  {
   "cell_type": "code",
   "execution_count": 13,
   "metadata": {},
   "outputs": [
    {
     "data": {
      "text/html": [
       "<div>\n",
       "<style scoped>\n",
       "    .dataframe tbody tr th:only-of-type {\n",
       "        vertical-align: middle;\n",
       "    }\n",
       "\n",
       "    .dataframe tbody tr th {\n",
       "        vertical-align: top;\n",
       "    }\n",
       "\n",
       "    .dataframe thead th {\n",
       "        text-align: right;\n",
       "    }\n",
       "</style>\n",
       "<table border=\"1\" class=\"dataframe\">\n",
       "  <thead>\n",
       "    <tr style=\"text-align: right;\">\n",
       "      <th></th>\n",
       "      <th>NOME</th>\n",
       "      <th>CPF</th>\n",
       "      <th>ÓRGÃO</th>\n",
       "      <th>CARGO</th>\n",
       "      <th>FUNÇÃO</th>\n",
       "      <th>SITUAÇÃO</th>\n",
       "      <th>MÊS</th>\n",
       "      <th>ANO</th>\n",
       "      <th>CÓDIGO DO ÓRGÃO</th>\n",
       "      <th>MATRÍCULA</th>\n",
       "      <th>...</th>\n",
       "      <th>DESCONTOS A MAIOR</th>\n",
       "      <th>LICENÇA PRÊMIO</th>\n",
       "      <th>IRRF</th>\n",
       "      <th>SEG. SOCIAL</th>\n",
       "      <th>TETO REDUTOR</th>\n",
       "      <th>OUTROS RECEBIMENTOS</th>\n",
       "      <th>OUTROS DESCONTOS OBRIGATÓRIOS</th>\n",
       "      <th>PAGAMENTOS A MAIOR</th>\n",
       "      <th>BRUTO</th>\n",
       "      <th>LÍQUIDO</th>\n",
       "    </tr>\n",
       "  </thead>\n",
       "  <tbody>\n",
       "    <tr>\n",
       "      <th>count</th>\n",
       "      <td>236719</td>\n",
       "      <td>236719</td>\n",
       "      <td>236719</td>\n",
       "      <td>228432</td>\n",
       "      <td>226605</td>\n",
       "      <td>236719</td>\n",
       "      <td>236719.0</td>\n",
       "      <td>236719.0</td>\n",
       "      <td>2.367190e+05</td>\n",
       "      <td>236719</td>\n",
       "      <td>...</td>\n",
       "      <td>236719.000000</td>\n",
       "      <td>236719.000000</td>\n",
       "      <td>236719.000000</td>\n",
       "      <td>236719.000000</td>\n",
       "      <td>236719.000000</td>\n",
       "      <td>236719.00000</td>\n",
       "      <td>236719.000000</td>\n",
       "      <td>236719.000000</td>\n",
       "      <td>236719.000000</td>\n",
       "      <td>236719.000000</td>\n",
       "    </tr>\n",
       "    <tr>\n",
       "      <th>unique</th>\n",
       "      <td>222676</td>\n",
       "      <td>118151</td>\n",
       "      <td>100</td>\n",
       "      <td>1121</td>\n",
       "      <td>1215</td>\n",
       "      <td>32</td>\n",
       "      <td>NaN</td>\n",
       "      <td>NaN</td>\n",
       "      <td>NaN</td>\n",
       "      <td>222909</td>\n",
       "      <td>...</td>\n",
       "      <td>NaN</td>\n",
       "      <td>NaN</td>\n",
       "      <td>NaN</td>\n",
       "      <td>NaN</td>\n",
       "      <td>NaN</td>\n",
       "      <td>NaN</td>\n",
       "      <td>NaN</td>\n",
       "      <td>NaN</td>\n",
       "      <td>NaN</td>\n",
       "      <td>NaN</td>\n",
       "    </tr>\n",
       "    <tr>\n",
       "      <th>top</th>\n",
       "      <td>MARIA JOSE DA SILVA                           ...</td>\n",
       "      <td>***365601**</td>\n",
       "      <td>SECRETARIA DE ESTADO DE EDUCACAO              ...</td>\n",
       "      <td>PROFESSOR DE EDUC. BASICA</td>\n",
       "      <td>...</td>\n",
       "      <td>ATIVO</td>\n",
       "      <td>NaN</td>\n",
       "      <td>NaN</td>\n",
       "      <td>NaN</td>\n",
       "      <td>00001430</td>\n",
       "      <td>...</td>\n",
       "      <td>NaN</td>\n",
       "      <td>NaN</td>\n",
       "      <td>NaN</td>\n",
       "      <td>NaN</td>\n",
       "      <td>NaN</td>\n",
       "      <td>NaN</td>\n",
       "      <td>NaN</td>\n",
       "      <td>NaN</td>\n",
       "      <td>NaN</td>\n",
       "      <td>NaN</td>\n",
       "    </tr>\n",
       "    <tr>\n",
       "      <th>freq</th>\n",
       "      <td>32</td>\n",
       "      <td>13</td>\n",
       "      <td>65810</td>\n",
       "      <td>45975</td>\n",
       "      <td>163732</td>\n",
       "      <td>114086</td>\n",
       "      <td>NaN</td>\n",
       "      <td>NaN</td>\n",
       "      <td>NaN</td>\n",
       "      <td>6</td>\n",
       "      <td>...</td>\n",
       "      <td>NaN</td>\n",
       "      <td>NaN</td>\n",
       "      <td>NaN</td>\n",
       "      <td>NaN</td>\n",
       "      <td>NaN</td>\n",
       "      <td>NaN</td>\n",
       "      <td>NaN</td>\n",
       "      <td>NaN</td>\n",
       "      <td>NaN</td>\n",
       "      <td>NaN</td>\n",
       "    </tr>\n",
       "    <tr>\n",
       "      <th>mean</th>\n",
       "      <td>NaN</td>\n",
       "      <td>NaN</td>\n",
       "      <td>NaN</td>\n",
       "      <td>NaN</td>\n",
       "      <td>NaN</td>\n",
       "      <td>NaN</td>\n",
       "      <td>5.0</td>\n",
       "      <td>2020.0</td>\n",
       "      <td>3.937377e+05</td>\n",
       "      <td>NaN</td>\n",
       "      <td>...</td>\n",
       "      <td>0.947892</td>\n",
       "      <td>191.438644</td>\n",
       "      <td>1113.184560</td>\n",
       "      <td>664.153035</td>\n",
       "      <td>3.994145</td>\n",
       "      <td>53.44792</td>\n",
       "      <td>36.580478</td>\n",
       "      <td>32.788519</td>\n",
       "      <td>9401.408382</td>\n",
       "      <td>7548.110879</td>\n",
       "    </tr>\n",
       "    <tr>\n",
       "      <th>std</th>\n",
       "      <td>NaN</td>\n",
       "      <td>NaN</td>\n",
       "      <td>NaN</td>\n",
       "      <td>NaN</td>\n",
       "      <td>NaN</td>\n",
       "      <td>NaN</td>\n",
       "      <td>0.0</td>\n",
       "      <td>0.0</td>\n",
       "      <td>5.666416e+05</td>\n",
       "      <td>NaN</td>\n",
       "      <td>...</td>\n",
       "      <td>37.903573</td>\n",
       "      <td>4562.863553</td>\n",
       "      <td>1339.236661</td>\n",
       "      <td>658.969525</td>\n",
       "      <td>183.917597</td>\n",
       "      <td>751.65732</td>\n",
       "      <td>320.962823</td>\n",
       "      <td>419.503104</td>\n",
       "      <td>7876.893297</td>\n",
       "      <td>6562.594343</td>\n",
       "    </tr>\n",
       "    <tr>\n",
       "      <th>min</th>\n",
       "      <td>NaN</td>\n",
       "      <td>NaN</td>\n",
       "      <td>NaN</td>\n",
       "      <td>NaN</td>\n",
       "      <td>NaN</td>\n",
       "      <td>NaN</td>\n",
       "      <td>5.0</td>\n",
       "      <td>2020.0</td>\n",
       "      <td>1.000010e+05</td>\n",
       "      <td>NaN</td>\n",
       "      <td>...</td>\n",
       "      <td>0.000000</td>\n",
       "      <td>-1000.000000</td>\n",
       "      <td>-16836.650000</td>\n",
       "      <td>-33585.250000</td>\n",
       "      <td>0.000000</td>\n",
       "      <td>0.00000</td>\n",
       "      <td>0.000000</td>\n",
       "      <td>0.000000</td>\n",
       "      <td>0.000000</td>\n",
       "      <td>-22550.020000</td>\n",
       "    </tr>\n",
       "    <tr>\n",
       "      <th>25%</th>\n",
       "      <td>NaN</td>\n",
       "      <td>NaN</td>\n",
       "      <td>NaN</td>\n",
       "      <td>NaN</td>\n",
       "      <td>NaN</td>\n",
       "      <td>NaN</td>\n",
       "      <td>5.0</td>\n",
       "      <td>2020.0</td>\n",
       "      <td>1.005520e+05</td>\n",
       "      <td>NaN</td>\n",
       "      <td>...</td>\n",
       "      <td>0.000000</td>\n",
       "      <td>0.000000</td>\n",
       "      <td>186.260000</td>\n",
       "      <td>179.410000</td>\n",
       "      <td>0.000000</td>\n",
       "      <td>0.00000</td>\n",
       "      <td>0.000000</td>\n",
       "      <td>0.000000</td>\n",
       "      <td>5398.100000</td>\n",
       "      <td>4640.670000</td>\n",
       "    </tr>\n",
       "    <tr>\n",
       "      <th>50%</th>\n",
       "      <td>NaN</td>\n",
       "      <td>NaN</td>\n",
       "      <td>NaN</td>\n",
       "      <td>NaN</td>\n",
       "      <td>NaN</td>\n",
       "      <td>NaN</td>\n",
       "      <td>5.0</td>\n",
       "      <td>2020.0</td>\n",
       "      <td>1.006520e+05</td>\n",
       "      <td>NaN</td>\n",
       "      <td>...</td>\n",
       "      <td>0.000000</td>\n",
       "      <td>0.000000</td>\n",
       "      <td>742.590000</td>\n",
       "      <td>610.170000</td>\n",
       "      <td>0.000000</td>\n",
       "      <td>0.00000</td>\n",
       "      <td>0.000000</td>\n",
       "      <td>0.000000</td>\n",
       "      <td>8281.160000</td>\n",
       "      <td>6830.070000</td>\n",
       "    </tr>\n",
       "    <tr>\n",
       "      <th>75%</th>\n",
       "      <td>NaN</td>\n",
       "      <td>NaN</td>\n",
       "      <td>NaN</td>\n",
       "      <td>NaN</td>\n",
       "      <td>NaN</td>\n",
       "      <td>NaN</td>\n",
       "      <td>5.0</td>\n",
       "      <td>2020.0</td>\n",
       "      <td>1.009900e+05</td>\n",
       "      <td>NaN</td>\n",
       "      <td>...</td>\n",
       "      <td>0.000000</td>\n",
       "      <td>0.000000</td>\n",
       "      <td>1529.685000</td>\n",
       "      <td>905.080000</td>\n",
       "      <td>0.000000</td>\n",
       "      <td>0.00000</td>\n",
       "      <td>0.000000</td>\n",
       "      <td>0.000000</td>\n",
       "      <td>11401.100000</td>\n",
       "      <td>9095.140000</td>\n",
       "    </tr>\n",
       "    <tr>\n",
       "      <th>max</th>\n",
       "      <td>NaN</td>\n",
       "      <td>NaN</td>\n",
       "      <td>NaN</td>\n",
       "      <td>NaN</td>\n",
       "      <td>NaN</td>\n",
       "      <td>NaN</td>\n",
       "      <td>5.0</td>\n",
       "      <td>2020.0</td>\n",
       "      <td>1.800130e+06</td>\n",
       "      <td>NaN</td>\n",
       "      <td>...</td>\n",
       "      <td>10463.730000</td>\n",
       "      <td>616469.280000</td>\n",
       "      <td>22255.550000</td>\n",
       "      <td>37900.840000</td>\n",
       "      <td>23313.710000</td>\n",
       "      <td>86216.68000</td>\n",
       "      <td>47090.920000</td>\n",
       "      <td>23189.870000</td>\n",
       "      <td>651180.390000</td>\n",
       "      <td>640222.550000</td>\n",
       "    </tr>\n",
       "  </tbody>\n",
       "</table>\n",
       "<p>11 rows × 27 columns</p>\n",
       "</div>"
      ],
      "text/plain": [
       "                                                     NOME          CPF  \\\n",
       "count                                              236719       236719   \n",
       "unique                                             222676       118151   \n",
       "top     MARIA JOSE DA SILVA                           ...  ***365601**   \n",
       "freq                                                   32           13   \n",
       "mean                                                  NaN          NaN   \n",
       "std                                                   NaN          NaN   \n",
       "min                                                   NaN          NaN   \n",
       "25%                                                   NaN          NaN   \n",
       "50%                                                   NaN          NaN   \n",
       "75%                                                   NaN          NaN   \n",
       "max                                                   NaN          NaN   \n",
       "\n",
       "                                                    ÓRGÃO  \\\n",
       "count                                              236719   \n",
       "unique                                                100   \n",
       "top     SECRETARIA DE ESTADO DE EDUCACAO              ...   \n",
       "freq                                                65810   \n",
       "mean                                                  NaN   \n",
       "std                                                   NaN   \n",
       "min                                                   NaN   \n",
       "25%                                                   NaN   \n",
       "50%                                                   NaN   \n",
       "75%                                                   NaN   \n",
       "max                                                   NaN   \n",
       "\n",
       "                                 CARGO  \\\n",
       "count                           228432   \n",
       "unique                            1121   \n",
       "top     PROFESSOR DE EDUC. BASICA        \n",
       "freq                             45975   \n",
       "mean                               NaN   \n",
       "std                                NaN   \n",
       "min                                NaN   \n",
       "25%                                NaN   \n",
       "50%                                NaN   \n",
       "75%                                NaN   \n",
       "max                                NaN   \n",
       "\n",
       "                                                   FUNÇÃO  \\\n",
       "count                                              226605   \n",
       "unique                                               1215   \n",
       "top                                                   ...   \n",
       "freq                                               163732   \n",
       "mean                                                  NaN   \n",
       "std                                                   NaN   \n",
       "min                                                   NaN   \n",
       "25%                                                   NaN   \n",
       "50%                                                   NaN   \n",
       "75%                                                   NaN   \n",
       "max                                                   NaN   \n",
       "\n",
       "                              SITUAÇÃO       MÊS       ANO  CÓDIGO DO ÓRGÃO  \\\n",
       "count                           236719  236719.0  236719.0     2.367190e+05   \n",
       "unique                              32       NaN       NaN              NaN   \n",
       "top     ATIVO                                NaN       NaN              NaN   \n",
       "freq                            114086       NaN       NaN              NaN   \n",
       "mean                               NaN       5.0    2020.0     3.937377e+05   \n",
       "std                                NaN       0.0       0.0     5.666416e+05   \n",
       "min                                NaN       5.0    2020.0     1.000010e+05   \n",
       "25%                                NaN       5.0    2020.0     1.005520e+05   \n",
       "50%                                NaN       5.0    2020.0     1.006520e+05   \n",
       "75%                                NaN       5.0    2020.0     1.009900e+05   \n",
       "max                                NaN       5.0    2020.0     1.800130e+06   \n",
       "\n",
       "       MATRÍCULA  ...  DESCONTOS A MAIOR  LICENÇA PRÊMIO           IRRF  \\\n",
       "count     236719  ...      236719.000000   236719.000000  236719.000000   \n",
       "unique    222909  ...                NaN             NaN            NaN   \n",
       "top     00001430  ...                NaN             NaN            NaN   \n",
       "freq           6  ...                NaN             NaN            NaN   \n",
       "mean         NaN  ...           0.947892      191.438644    1113.184560   \n",
       "std          NaN  ...          37.903573     4562.863553    1339.236661   \n",
       "min          NaN  ...           0.000000    -1000.000000  -16836.650000   \n",
       "25%          NaN  ...           0.000000        0.000000     186.260000   \n",
       "50%          NaN  ...           0.000000        0.000000     742.590000   \n",
       "75%          NaN  ...           0.000000        0.000000    1529.685000   \n",
       "max          NaN  ...       10463.730000   616469.280000   22255.550000   \n",
       "\n",
       "          SEG. SOCIAL   TETO REDUTOR  OUTROS RECEBIMENTOS  \\\n",
       "count   236719.000000  236719.000000         236719.00000   \n",
       "unique            NaN            NaN                  NaN   \n",
       "top               NaN            NaN                  NaN   \n",
       "freq              NaN            NaN                  NaN   \n",
       "mean       664.153035       3.994145             53.44792   \n",
       "std        658.969525     183.917597            751.65732   \n",
       "min     -33585.250000       0.000000              0.00000   \n",
       "25%        179.410000       0.000000              0.00000   \n",
       "50%        610.170000       0.000000              0.00000   \n",
       "75%        905.080000       0.000000              0.00000   \n",
       "max      37900.840000   23313.710000          86216.68000   \n",
       "\n",
       "        OUTROS DESCONTOS OBRIGATÓRIOS  PAGAMENTOS A MAIOR          BRUTO  \\\n",
       "count                   236719.000000       236719.000000  236719.000000   \n",
       "unique                            NaN                 NaN            NaN   \n",
       "top                               NaN                 NaN            NaN   \n",
       "freq                              NaN                 NaN            NaN   \n",
       "mean                        36.580478           32.788519    9401.408382   \n",
       "std                        320.962823          419.503104    7876.893297   \n",
       "min                          0.000000            0.000000       0.000000   \n",
       "25%                          0.000000            0.000000    5398.100000   \n",
       "50%                          0.000000            0.000000    8281.160000   \n",
       "75%                          0.000000            0.000000   11401.100000   \n",
       "max                      47090.920000        23189.870000  651180.390000   \n",
       "\n",
       "              LÍQUIDO  \n",
       "count   236719.000000  \n",
       "unique            NaN  \n",
       "top               NaN  \n",
       "freq              NaN  \n",
       "mean      7548.110879  \n",
       "std       6562.594343  \n",
       "min     -22550.020000  \n",
       "25%       4640.670000  \n",
       "50%       6830.070000  \n",
       "75%       9095.140000  \n",
       "max     640222.550000  \n",
       "\n",
       "[11 rows x 27 columns]"
      ]
     },
     "execution_count": 13,
     "metadata": {},
     "output_type": "execute_result"
    }
   ],
   "source": [
    "df.describe(include='all')"
   ]
  },
  {
   "cell_type": "code",
   "execution_count": 14,
   "metadata": {},
   "outputs": [
    {
     "name": "stdout",
     "output_type": "stream",
     "text": [
      "<class 'pandas.core.frame.DataFrame'>\n",
      "RangeIndex: 236719 entries, 0 to 236718\n",
      "Data columns (total 27 columns):\n",
      " #   Column                         Non-Null Count   Dtype  \n",
      "---  ------                         --------------   -----  \n",
      " 0   NOME                           236719 non-null  object \n",
      " 1   CPF                            236719 non-null  object \n",
      " 2   ÓRGÃO                          236719 non-null  object \n",
      " 3   CARGO                          228432 non-null  object \n",
      " 4   FUNÇÃO                         226605 non-null  object \n",
      " 5   SITUAÇÃO                       236719 non-null  object \n",
      " 6   MÊS                            236719 non-null  int64  \n",
      " 7   ANO                            236719 non-null  int64  \n",
      " 8   CÓDIGO DO ÓRGÃO                236719 non-null  int64  \n",
      " 9   MATRÍCULA                      236719 non-null  object \n",
      " 10  REMUNERAÇÃO BÁSICA             236719 non-null  float64\n",
      " 11  BENEFÍCIOS                     236719 non-null  float64\n",
      " 12  VALOR DA FUNÇÃO                236719 non-null  float64\n",
      " 13  COMISSÃO CONSELHEIRO           236719 non-null  float64\n",
      " 14  HORA EXTRA                     236719 non-null  float64\n",
      " 15  VERBAS EVENTUAIS               236719 non-null  float64\n",
      " 16  VERBAS JUDICIAIS               236719 non-null  float64\n",
      " 17  DESCONTOS A MAIOR              236719 non-null  float64\n",
      " 18  LICENÇA PRÊMIO                 236719 non-null  float64\n",
      " 19  IRRF                           236719 non-null  float64\n",
      " 20  SEG. SOCIAL                    236719 non-null  float64\n",
      " 21  TETO REDUTOR                   236719 non-null  float64\n",
      " 22  OUTROS RECEBIMENTOS            236719 non-null  float64\n",
      " 23  OUTROS DESCONTOS OBRIGATÓRIOS  236719 non-null  float64\n",
      " 24  PAGAMENTOS A MAIOR             236719 non-null  float64\n",
      " 25  BRUTO                          236719 non-null  float64\n",
      " 26  LÍQUIDO                        236719 non-null  float64\n",
      "dtypes: float64(17), int64(3), object(7)\n",
      "memory usage: 48.8+ MB\n"
     ]
    }
   ],
   "source": [
    "# Informações gerais do dataset\n",
    "df.info()"
   ]
  },
  {
   "cell_type": "code",
   "execution_count": 16,
   "metadata": {},
   "outputs": [],
   "source": [
    "# Remoção de colunas\n",
    "cols = [1,6,7,8,9,10,11,12,13,14,15,16,17,18,19,20,21,22,23,24,25]\n",
    "df.drop(df.columns[cols], axis=1, inplace=True)"
   ]
  },
  {
   "cell_type": "code",
   "execution_count": 17,
   "metadata": {},
   "outputs": [
    {
     "data": {
      "text/html": [
       "<div>\n",
       "<style scoped>\n",
       "    .dataframe tbody tr th:only-of-type {\n",
       "        vertical-align: middle;\n",
       "    }\n",
       "\n",
       "    .dataframe tbody tr th {\n",
       "        vertical-align: top;\n",
       "    }\n",
       "\n",
       "    .dataframe thead th {\n",
       "        text-align: right;\n",
       "    }\n",
       "</style>\n",
       "<table border=\"1\" class=\"dataframe\">\n",
       "  <thead>\n",
       "    <tr style=\"text-align: right;\">\n",
       "      <th></th>\n",
       "      <th>NOME</th>\n",
       "      <th>ÓRGÃO</th>\n",
       "      <th>CARGO</th>\n",
       "      <th>FUNÇÃO</th>\n",
       "      <th>SITUAÇÃO</th>\n",
       "      <th>LÍQUIDO</th>\n",
       "    </tr>\n",
       "  </thead>\n",
       "  <tbody>\n",
       "    <tr>\n",
       "      <th>0</th>\n",
       "      <td>JOSENILDO DO NASCIMENTO NUNES                 ...</td>\n",
       "      <td>SECRETARIA DE ESTADO DE SEGURANCA PUBLICA DO D...</td>\n",
       "      <td>ANA. APOIO AS ATIV. PCDF</td>\n",
       "      <td>...</td>\n",
       "      <td>ATIVO</td>\n",
       "      <td>3986.46</td>\n",
       "    </tr>\n",
       "    <tr>\n",
       "      <th>1</th>\n",
       "      <td>MARIA DA GLORIA M DOS SANTOS                  ...</td>\n",
       "      <td>SECRETARIA DE ESTADO DE SEGURANCA PUBLICA DO D...</td>\n",
       "      <td>TECNICO POL PUBL E GEST GOV</td>\n",
       "      <td>...</td>\n",
       "      <td>ATIVO</td>\n",
       "      <td>2042.45</td>\n",
       "    </tr>\n",
       "    <tr>\n",
       "      <th>2</th>\n",
       "      <td>MARIA DA CONCEICAO LOPES DA SILVA             ...</td>\n",
       "      <td>SECRETARIA DE ESTADO DE SEGURANCA PUBLICA DO D...</td>\n",
       "      <td>ASSIST.DE APOIO ATIV. PCDF</td>\n",
       "      <td>...</td>\n",
       "      <td>ATIVO</td>\n",
       "      <td>2042.45</td>\n",
       "    </tr>\n",
       "    <tr>\n",
       "      <th>3</th>\n",
       "      <td>MARIA DEUSANIRA CARVALHO SOUZA                ...</td>\n",
       "      <td>SECRETARIA DE ESTADO DE SEGURANCA PUBLICA DO D...</td>\n",
       "      <td>ASSIST.DE APOIO ATIV. PCDF</td>\n",
       "      <td>...</td>\n",
       "      <td>ATIVO</td>\n",
       "      <td>2128.02</td>\n",
       "    </tr>\n",
       "    <tr>\n",
       "      <th>4</th>\n",
       "      <td>EMERSON JOSE DA ROCHA                         ...</td>\n",
       "      <td>SECRETARIA DE ESTADO DE SEGURANCA PUBLICA DO D...</td>\n",
       "      <td>TECNICO POL PUBL E GEST GOV</td>\n",
       "      <td>...</td>\n",
       "      <td>ATIVO</td>\n",
       "      <td>6173.34</td>\n",
       "    </tr>\n",
       "    <tr>\n",
       "      <th>...</th>\n",
       "      <td>...</td>\n",
       "      <td>...</td>\n",
       "      <td>...</td>\n",
       "      <td>...</td>\n",
       "      <td>...</td>\n",
       "      <td>...</td>\n",
       "    </tr>\n",
       "    <tr>\n",
       "      <th>236714</th>\n",
       "      <td>ANDREIA ALVES GUIMARAES</td>\n",
       "      <td>CENTRAIS DE ABASTECIMENTO DO DISTRITO FEDERAL S/A</td>\n",
       "      <td>NaN</td>\n",
       "      <td>ASSESSORA</td>\n",
       "      <td>OUTROS</td>\n",
       "      <td>6191.19</td>\n",
       "    </tr>\n",
       "    <tr>\n",
       "      <th>236715</th>\n",
       "      <td>IARA BASTOS CAVALCANTE</td>\n",
       "      <td>CENTRAIS DE ABASTECIMENTO DO DISTRITO FEDERAL S/A</td>\n",
       "      <td>NaN</td>\n",
       "      <td>CHEFE</td>\n",
       "      <td>OUTROS</td>\n",
       "      <td>9545.35</td>\n",
       "    </tr>\n",
       "    <tr>\n",
       "      <th>236716</th>\n",
       "      <td>PETRONAH DE CASTRO E SILVA</td>\n",
       "      <td>CENTRAIS DE ABASTECIMENTO DO DISTRITO FEDERAL S/A</td>\n",
       "      <td>NaN</td>\n",
       "      <td>VICE-PRESIDENTE</td>\n",
       "      <td>OUTROS</td>\n",
       "      <td>10219.39</td>\n",
       "    </tr>\n",
       "    <tr>\n",
       "      <th>236717</th>\n",
       "      <td>MARIA DO CARMO LIMA</td>\n",
       "      <td>CENTRAIS DE ABASTECIMENTO DO DISTRITO FEDERAL S/A</td>\n",
       "      <td>NaN</td>\n",
       "      <td>FG EM EXTINÇÃO</td>\n",
       "      <td>OUTROS</td>\n",
       "      <td>3923.30</td>\n",
       "    </tr>\n",
       "    <tr>\n",
       "      <th>236718</th>\n",
       "      <td>LIDIANE DE MATOS PIRES</td>\n",
       "      <td>CENTRAIS DE ABASTECIMENTO DO DISTRITO FEDERAL S/A</td>\n",
       "      <td>NaN</td>\n",
       "      <td>DIRETORA</td>\n",
       "      <td>REQUISITADO</td>\n",
       "      <td>9090.58</td>\n",
       "    </tr>\n",
       "  </tbody>\n",
       "</table>\n",
       "<p>236719 rows × 6 columns</p>\n",
       "</div>"
      ],
      "text/plain": [
       "                                                     NOME  \\\n",
       "0       JOSENILDO DO NASCIMENTO NUNES                 ...   \n",
       "1       MARIA DA GLORIA M DOS SANTOS                  ...   \n",
       "2       MARIA DA CONCEICAO LOPES DA SILVA             ...   \n",
       "3       MARIA DEUSANIRA CARVALHO SOUZA                ...   \n",
       "4       EMERSON JOSE DA ROCHA                         ...   \n",
       "...                                                   ...   \n",
       "236714                            ANDREIA ALVES GUIMARAES   \n",
       "236715                             IARA BASTOS CAVALCANTE   \n",
       "236716                         PETRONAH DE CASTRO E SILVA   \n",
       "236717                                MARIA DO CARMO LIMA   \n",
       "236718                             LIDIANE DE MATOS PIRES   \n",
       "\n",
       "                                                    ÓRGÃO  \\\n",
       "0       SECRETARIA DE ESTADO DE SEGURANCA PUBLICA DO D...   \n",
       "1       SECRETARIA DE ESTADO DE SEGURANCA PUBLICA DO D...   \n",
       "2       SECRETARIA DE ESTADO DE SEGURANCA PUBLICA DO D...   \n",
       "3       SECRETARIA DE ESTADO DE SEGURANCA PUBLICA DO D...   \n",
       "4       SECRETARIA DE ESTADO DE SEGURANCA PUBLICA DO D...   \n",
       "...                                                   ...   \n",
       "236714  CENTRAIS DE ABASTECIMENTO DO DISTRITO FEDERAL S/A   \n",
       "236715  CENTRAIS DE ABASTECIMENTO DO DISTRITO FEDERAL S/A   \n",
       "236716  CENTRAIS DE ABASTECIMENTO DO DISTRITO FEDERAL S/A   \n",
       "236717  CENTRAIS DE ABASTECIMENTO DO DISTRITO FEDERAL S/A   \n",
       "236718  CENTRAIS DE ABASTECIMENTO DO DISTRITO FEDERAL S/A   \n",
       "\n",
       "                                 CARGO  \\\n",
       "0       ANA. APOIO AS ATIV. PCDF         \n",
       "1       TECNICO POL PUBL E GEST GOV      \n",
       "2       ASSIST.DE APOIO ATIV. PCDF       \n",
       "3       ASSIST.DE APOIO ATIV. PCDF       \n",
       "4       TECNICO POL PUBL E GEST GOV      \n",
       "...                                ...   \n",
       "236714                             NaN   \n",
       "236715                             NaN   \n",
       "236716                             NaN   \n",
       "236717                             NaN   \n",
       "236718                             NaN   \n",
       "\n",
       "                                                   FUNÇÃO  \\\n",
       "0                                                     ...   \n",
       "1                                                     ...   \n",
       "2                                                     ...   \n",
       "3                                                     ...   \n",
       "4                                                     ...   \n",
       "...                                                   ...   \n",
       "236714                                          ASSESSORA   \n",
       "236715                                              CHEFE   \n",
       "236716                                    VICE-PRESIDENTE   \n",
       "236717                                     FG EM EXTINÇÃO   \n",
       "236718                                           DIRETORA   \n",
       "\n",
       "                              SITUAÇÃO   LÍQUIDO  \n",
       "0       ATIVO                            3986.46  \n",
       "1       ATIVO                            2042.45  \n",
       "2       ATIVO                            2042.45  \n",
       "3       ATIVO                            2128.02  \n",
       "4       ATIVO                            6173.34  \n",
       "...                                ...       ...  \n",
       "236714                          OUTROS   6191.19  \n",
       "236715                          OUTROS   9545.35  \n",
       "236716                          OUTROS  10219.39  \n",
       "236717                          OUTROS   3923.30  \n",
       "236718                     REQUISITADO   9090.58  \n",
       "\n",
       "[236719 rows x 6 columns]"
      ]
     },
     "execution_count": 17,
     "metadata": {},
     "output_type": "execute_result"
    }
   ],
   "source": [
    "df"
   ]
  },
  {
   "cell_type": "code",
   "execution_count": 18,
   "metadata": {},
   "outputs": [
    {
     "data": {
      "text/html": [
       "<div>\n",
       "<style scoped>\n",
       "    .dataframe tbody tr th:only-of-type {\n",
       "        vertical-align: middle;\n",
       "    }\n",
       "\n",
       "    .dataframe tbody tr th {\n",
       "        vertical-align: top;\n",
       "    }\n",
       "\n",
       "    .dataframe thead th {\n",
       "        text-align: right;\n",
       "    }\n",
       "</style>\n",
       "<table border=\"1\" class=\"dataframe\">\n",
       "  <thead>\n",
       "    <tr style=\"text-align: right;\">\n",
       "      <th></th>\n",
       "      <th>NOME</th>\n",
       "      <th>ÓRGÃO</th>\n",
       "      <th>CARGO</th>\n",
       "      <th>FUNÇÃO</th>\n",
       "      <th>SITUAÇÃO</th>\n",
       "      <th>LÍQUIDO</th>\n",
       "    </tr>\n",
       "  </thead>\n",
       "  <tbody>\n",
       "    <tr>\n",
       "      <th>16123</th>\n",
       "      <td>ESEQUIEL SANTOS MOREIRA                       ...</td>\n",
       "      <td>DEFENSORIA PUBLICA DO DISTRITO FEDERAL        ...</td>\n",
       "      <td>DEFENSOR PUBLICO - ESPECIAL</td>\n",
       "      <td>...</td>\n",
       "      <td>APOSENTADO</td>\n",
       "      <td>640222.55</td>\n",
       "    </tr>\n",
       "    <tr>\n",
       "      <th>198816</th>\n",
       "      <td>FERNANDO D'AUSTRIA E CARAVELLAS FILHO</td>\n",
       "      <td>POLICIA MILITAR DO DISTRITO FEDERAL - SIAPE</td>\n",
       "      <td>CORONEL</td>\n",
       "      <td>S/NIVEL FUNCAO</td>\n",
       "      <td>APOSENTADO</td>\n",
       "      <td>570910.01</td>\n",
       "    </tr>\n",
       "    <tr>\n",
       "      <th>198820</th>\n",
       "      <td>AGRICIO DA SILVA</td>\n",
       "      <td>POLICIA MILITAR DO DISTRITO FEDERAL - SIAPE</td>\n",
       "      <td>CORONEL</td>\n",
       "      <td>S/NIVEL FUNCAO</td>\n",
       "      <td>APOSENTADO</td>\n",
       "      <td>567639.39</td>\n",
       "    </tr>\n",
       "    <tr>\n",
       "      <th>198827</th>\n",
       "      <td>ALEXANDRE SERGIO VICENTE FERREIRA</td>\n",
       "      <td>POLICIA MILITAR DO DISTRITO FEDERAL - SIAPE</td>\n",
       "      <td>CORONEL</td>\n",
       "      <td>S/NIVEL FUNCAO</td>\n",
       "      <td>APOSENTADO</td>\n",
       "      <td>557512.48</td>\n",
       "    </tr>\n",
       "    <tr>\n",
       "      <th>16322</th>\n",
       "      <td>JUSCELINO CAMPOS DE OLIVEIRA                  ...</td>\n",
       "      <td>DEFENSORIA PUBLICA DO DISTRITO FEDERAL        ...</td>\n",
       "      <td>DEFENSOR PUBLICO - ESPECIAL</td>\n",
       "      <td>...</td>\n",
       "      <td>APOSENTADO</td>\n",
       "      <td>434798.29</td>\n",
       "    </tr>\n",
       "    <tr>\n",
       "      <th>223368</th>\n",
       "      <td>WALTER PEREIRA DA SILVA</td>\n",
       "      <td>CORPO DE BOMBEIRO MILITAR DO DISTRITO FEDERAL ...</td>\n",
       "      <td>MAJOR</td>\n",
       "      <td>S/NIVEL FUNCAO</td>\n",
       "      <td>APOSENTADO</td>\n",
       "      <td>393278.49</td>\n",
       "    </tr>\n",
       "    <tr>\n",
       "      <th>220950</th>\n",
       "      <td>GILSON SANTOS DE CASTRO</td>\n",
       "      <td>CORPO DE BOMBEIRO MILITAR DO DISTRITO FEDERAL ...</td>\n",
       "      <td>TENENTE-CORONEL</td>\n",
       "      <td>S/NIVEL FUNCAO</td>\n",
       "      <td>APOSENTADO</td>\n",
       "      <td>352184.19</td>\n",
       "    </tr>\n",
       "    <tr>\n",
       "      <th>220899</th>\n",
       "      <td>TARCISIO DE SOUZA VASCONCELOS</td>\n",
       "      <td>CORPO DE BOMBEIRO MILITAR DO DISTRITO FEDERAL ...</td>\n",
       "      <td>TENENTE-CORONEL</td>\n",
       "      <td>S/NIVEL FUNCAO</td>\n",
       "      <td>APOSENTADO</td>\n",
       "      <td>319047.77</td>\n",
       "    </tr>\n",
       "    <tr>\n",
       "      <th>196666</th>\n",
       "      <td>SIDELCINO SILVA DAS NEVES</td>\n",
       "      <td>POLICIA MILITAR DO DISTRITO FEDERAL - SIAPE</td>\n",
       "      <td>SUBTENENTE</td>\n",
       "      <td>S/NIVEL FUNCAO</td>\n",
       "      <td>APOSENTADO</td>\n",
       "      <td>316532.49</td>\n",
       "    </tr>\n",
       "    <tr>\n",
       "      <th>220922</th>\n",
       "      <td>ALISSON BEZERRA DE CARVALHO</td>\n",
       "      <td>CORPO DE BOMBEIRO MILITAR DO DISTRITO FEDERAL ...</td>\n",
       "      <td>TENENTE-CORONEL</td>\n",
       "      <td>S/NIVEL FUNCAO</td>\n",
       "      <td>APOSENTADO</td>\n",
       "      <td>316257.30</td>\n",
       "    </tr>\n",
       "  </tbody>\n",
       "</table>\n",
       "</div>"
      ],
      "text/plain": [
       "                                                     NOME  \\\n",
       "16123   ESEQUIEL SANTOS MOREIRA                       ...   \n",
       "198816              FERNANDO D'AUSTRIA E CARAVELLAS FILHO   \n",
       "198820                                   AGRICIO DA SILVA   \n",
       "198827                  ALEXANDRE SERGIO VICENTE FERREIRA   \n",
       "16322   JUSCELINO CAMPOS DE OLIVEIRA                  ...   \n",
       "223368                            WALTER PEREIRA DA SILVA   \n",
       "220950                            GILSON SANTOS DE CASTRO   \n",
       "220899                      TARCISIO DE SOUZA VASCONCELOS   \n",
       "196666                          SIDELCINO SILVA DAS NEVES   \n",
       "220922                        ALISSON BEZERRA DE CARVALHO   \n",
       "\n",
       "                                                    ÓRGÃO  \\\n",
       "16123   DEFENSORIA PUBLICA DO DISTRITO FEDERAL        ...   \n",
       "198816        POLICIA MILITAR DO DISTRITO FEDERAL - SIAPE   \n",
       "198820        POLICIA MILITAR DO DISTRITO FEDERAL - SIAPE   \n",
       "198827        POLICIA MILITAR DO DISTRITO FEDERAL - SIAPE   \n",
       "16322   DEFENSORIA PUBLICA DO DISTRITO FEDERAL        ...   \n",
       "223368  CORPO DE BOMBEIRO MILITAR DO DISTRITO FEDERAL ...   \n",
       "220950  CORPO DE BOMBEIRO MILITAR DO DISTRITO FEDERAL ...   \n",
       "220899  CORPO DE BOMBEIRO MILITAR DO DISTRITO FEDERAL ...   \n",
       "196666        POLICIA MILITAR DO DISTRITO FEDERAL - SIAPE   \n",
       "220922  CORPO DE BOMBEIRO MILITAR DO DISTRITO FEDERAL ...   \n",
       "\n",
       "                                 CARGO  \\\n",
       "16123   DEFENSOR PUBLICO - ESPECIAL      \n",
       "198816                         CORONEL   \n",
       "198820                         CORONEL   \n",
       "198827                         CORONEL   \n",
       "16322   DEFENSOR PUBLICO - ESPECIAL      \n",
       "223368                           MAJOR   \n",
       "220950                 TENENTE-CORONEL   \n",
       "220899                 TENENTE-CORONEL   \n",
       "196666                      SUBTENENTE   \n",
       "220922                 TENENTE-CORONEL   \n",
       "\n",
       "                                                   FUNÇÃO  \\\n",
       "16123                                                 ...   \n",
       "198816                                     S/NIVEL FUNCAO   \n",
       "198820                                     S/NIVEL FUNCAO   \n",
       "198827                                     S/NIVEL FUNCAO   \n",
       "16322                                                 ...   \n",
       "223368                                     S/NIVEL FUNCAO   \n",
       "220950                                     S/NIVEL FUNCAO   \n",
       "220899                                     S/NIVEL FUNCAO   \n",
       "196666                                     S/NIVEL FUNCAO   \n",
       "220922                                     S/NIVEL FUNCAO   \n",
       "\n",
       "                              SITUAÇÃO    LÍQUIDO  \n",
       "16123   APOSENTADO                      640222.55  \n",
       "198816                      APOSENTADO  570910.01  \n",
       "198820                      APOSENTADO  567639.39  \n",
       "198827                      APOSENTADO  557512.48  \n",
       "16322   APOSENTADO                      434798.29  \n",
       "223368                      APOSENTADO  393278.49  \n",
       "220950                      APOSENTADO  352184.19  \n",
       "220899                      APOSENTADO  319047.77  \n",
       "196666                      APOSENTADO  316532.49  \n",
       "220922                      APOSENTADO  316257.30  "
      ]
     },
     "execution_count": 18,
     "metadata": {},
     "output_type": "execute_result"
    }
   ],
   "source": [
    "TOP5_SALARIOS = df.sort_values(by='LÍQUIDO', ascending=False).head(10)\n",
    "TOP5_SALARIOS"
   ]
  },
  {
   "cell_type": "code",
   "execution_count": 19,
   "metadata": {},
   "outputs": [
    {
     "data": {
      "application/vnd.plotly.v1+json": {
       "config": {
        "plotlyServerURL": "https://plot.ly"
       },
       "data": [
        {
         "alignmentgroup": "True",
         "hovertemplate": "NOME=%{x}<br>LÍQUIDO=%{marker.color}<extra></extra>",
         "legendgroup": "",
         "marker": {
          "color": [
           640222.55,
           570910.01,
           567639.39,
           557512.48,
           434798.29,
           393278.49,
           352184.19,
           319047.77,
           316532.49,
           316257.3
          ],
          "coloraxis": "coloraxis"
         },
         "name": "",
         "offsetgroup": "",
         "orientation": "v",
         "showlegend": false,
         "textposition": "auto",
         "type": "bar",
         "x": [
          "ESEQUIEL SANTOS MOREIRA                           ",
          "FERNANDO D'AUSTRIA E CARAVELLAS FILHO",
          "AGRICIO DA SILVA",
          "ALEXANDRE SERGIO VICENTE FERREIRA",
          "JUSCELINO CAMPOS DE OLIVEIRA                      ",
          "WALTER PEREIRA DA SILVA",
          "GILSON SANTOS DE CASTRO",
          "TARCISIO DE SOUZA VASCONCELOS",
          "SIDELCINO SILVA DAS NEVES",
          "ALISSON BEZERRA DE CARVALHO"
         ],
         "xaxis": "x",
         "y": [
          640222.55,
          570910.01,
          567639.39,
          557512.48,
          434798.29,
          393278.49,
          352184.19,
          319047.77,
          316532.49,
          316257.3
         ],
         "yaxis": "y"
        }
       ],
       "layout": {
        "barmode": "relative",
        "coloraxis": {
         "colorbar": {
          "title": {
           "text": "LÍQUIDO"
          }
         },
         "colorscale": [
          [
           0,
           "#0d0887"
          ],
          [
           0.1111111111111111,
           "#46039f"
          ],
          [
           0.2222222222222222,
           "#7201a8"
          ],
          [
           0.3333333333333333,
           "#9c179e"
          ],
          [
           0.4444444444444444,
           "#bd3786"
          ],
          [
           0.5555555555555556,
           "#d8576b"
          ],
          [
           0.6666666666666666,
           "#ed7953"
          ],
          [
           0.7777777777777778,
           "#fb9f3a"
          ],
          [
           0.8888888888888888,
           "#fdca26"
          ],
          [
           1,
           "#f0f921"
          ]
         ]
        },
        "legend": {
         "tracegroupgap": 0
        },
        "margin": {
         "t": 60
        },
        "template": {
         "data": {
          "bar": [
           {
            "error_x": {
             "color": "#2a3f5f"
            },
            "error_y": {
             "color": "#2a3f5f"
            },
            "marker": {
             "line": {
              "color": "#E5ECF6",
              "width": 0.5
             }
            },
            "type": "bar"
           }
          ],
          "barpolar": [
           {
            "marker": {
             "line": {
              "color": "#E5ECF6",
              "width": 0.5
             }
            },
            "type": "barpolar"
           }
          ],
          "carpet": [
           {
            "aaxis": {
             "endlinecolor": "#2a3f5f",
             "gridcolor": "white",
             "linecolor": "white",
             "minorgridcolor": "white",
             "startlinecolor": "#2a3f5f"
            },
            "baxis": {
             "endlinecolor": "#2a3f5f",
             "gridcolor": "white",
             "linecolor": "white",
             "minorgridcolor": "white",
             "startlinecolor": "#2a3f5f"
            },
            "type": "carpet"
           }
          ],
          "choropleth": [
           {
            "colorbar": {
             "outlinewidth": 0,
             "ticks": ""
            },
            "type": "choropleth"
           }
          ],
          "contour": [
           {
            "colorbar": {
             "outlinewidth": 0,
             "ticks": ""
            },
            "colorscale": [
             [
              0,
              "#0d0887"
             ],
             [
              0.1111111111111111,
              "#46039f"
             ],
             [
              0.2222222222222222,
              "#7201a8"
             ],
             [
              0.3333333333333333,
              "#9c179e"
             ],
             [
              0.4444444444444444,
              "#bd3786"
             ],
             [
              0.5555555555555556,
              "#d8576b"
             ],
             [
              0.6666666666666666,
              "#ed7953"
             ],
             [
              0.7777777777777778,
              "#fb9f3a"
             ],
             [
              0.8888888888888888,
              "#fdca26"
             ],
             [
              1,
              "#f0f921"
             ]
            ],
            "type": "contour"
           }
          ],
          "contourcarpet": [
           {
            "colorbar": {
             "outlinewidth": 0,
             "ticks": ""
            },
            "type": "contourcarpet"
           }
          ],
          "heatmap": [
           {
            "colorbar": {
             "outlinewidth": 0,
             "ticks": ""
            },
            "colorscale": [
             [
              0,
              "#0d0887"
             ],
             [
              0.1111111111111111,
              "#46039f"
             ],
             [
              0.2222222222222222,
              "#7201a8"
             ],
             [
              0.3333333333333333,
              "#9c179e"
             ],
             [
              0.4444444444444444,
              "#bd3786"
             ],
             [
              0.5555555555555556,
              "#d8576b"
             ],
             [
              0.6666666666666666,
              "#ed7953"
             ],
             [
              0.7777777777777778,
              "#fb9f3a"
             ],
             [
              0.8888888888888888,
              "#fdca26"
             ],
             [
              1,
              "#f0f921"
             ]
            ],
            "type": "heatmap"
           }
          ],
          "heatmapgl": [
           {
            "colorbar": {
             "outlinewidth": 0,
             "ticks": ""
            },
            "colorscale": [
             [
              0,
              "#0d0887"
             ],
             [
              0.1111111111111111,
              "#46039f"
             ],
             [
              0.2222222222222222,
              "#7201a8"
             ],
             [
              0.3333333333333333,
              "#9c179e"
             ],
             [
              0.4444444444444444,
              "#bd3786"
             ],
             [
              0.5555555555555556,
              "#d8576b"
             ],
             [
              0.6666666666666666,
              "#ed7953"
             ],
             [
              0.7777777777777778,
              "#fb9f3a"
             ],
             [
              0.8888888888888888,
              "#fdca26"
             ],
             [
              1,
              "#f0f921"
             ]
            ],
            "type": "heatmapgl"
           }
          ],
          "histogram": [
           {
            "marker": {
             "colorbar": {
              "outlinewidth": 0,
              "ticks": ""
             }
            },
            "type": "histogram"
           }
          ],
          "histogram2d": [
           {
            "colorbar": {
             "outlinewidth": 0,
             "ticks": ""
            },
            "colorscale": [
             [
              0,
              "#0d0887"
             ],
             [
              0.1111111111111111,
              "#46039f"
             ],
             [
              0.2222222222222222,
              "#7201a8"
             ],
             [
              0.3333333333333333,
              "#9c179e"
             ],
             [
              0.4444444444444444,
              "#bd3786"
             ],
             [
              0.5555555555555556,
              "#d8576b"
             ],
             [
              0.6666666666666666,
              "#ed7953"
             ],
             [
              0.7777777777777778,
              "#fb9f3a"
             ],
             [
              0.8888888888888888,
              "#fdca26"
             ],
             [
              1,
              "#f0f921"
             ]
            ],
            "type": "histogram2d"
           }
          ],
          "histogram2dcontour": [
           {
            "colorbar": {
             "outlinewidth": 0,
             "ticks": ""
            },
            "colorscale": [
             [
              0,
              "#0d0887"
             ],
             [
              0.1111111111111111,
              "#46039f"
             ],
             [
              0.2222222222222222,
              "#7201a8"
             ],
             [
              0.3333333333333333,
              "#9c179e"
             ],
             [
              0.4444444444444444,
              "#bd3786"
             ],
             [
              0.5555555555555556,
              "#d8576b"
             ],
             [
              0.6666666666666666,
              "#ed7953"
             ],
             [
              0.7777777777777778,
              "#fb9f3a"
             ],
             [
              0.8888888888888888,
              "#fdca26"
             ],
             [
              1,
              "#f0f921"
             ]
            ],
            "type": "histogram2dcontour"
           }
          ],
          "mesh3d": [
           {
            "colorbar": {
             "outlinewidth": 0,
             "ticks": ""
            },
            "type": "mesh3d"
           }
          ],
          "parcoords": [
           {
            "line": {
             "colorbar": {
              "outlinewidth": 0,
              "ticks": ""
             }
            },
            "type": "parcoords"
           }
          ],
          "pie": [
           {
            "automargin": true,
            "type": "pie"
           }
          ],
          "scatter": [
           {
            "marker": {
             "colorbar": {
              "outlinewidth": 0,
              "ticks": ""
             }
            },
            "type": "scatter"
           }
          ],
          "scatter3d": [
           {
            "line": {
             "colorbar": {
              "outlinewidth": 0,
              "ticks": ""
             }
            },
            "marker": {
             "colorbar": {
              "outlinewidth": 0,
              "ticks": ""
             }
            },
            "type": "scatter3d"
           }
          ],
          "scattercarpet": [
           {
            "marker": {
             "colorbar": {
              "outlinewidth": 0,
              "ticks": ""
             }
            },
            "type": "scattercarpet"
           }
          ],
          "scattergeo": [
           {
            "marker": {
             "colorbar": {
              "outlinewidth": 0,
              "ticks": ""
             }
            },
            "type": "scattergeo"
           }
          ],
          "scattergl": [
           {
            "marker": {
             "colorbar": {
              "outlinewidth": 0,
              "ticks": ""
             }
            },
            "type": "scattergl"
           }
          ],
          "scattermapbox": [
           {
            "marker": {
             "colorbar": {
              "outlinewidth": 0,
              "ticks": ""
             }
            },
            "type": "scattermapbox"
           }
          ],
          "scatterpolar": [
           {
            "marker": {
             "colorbar": {
              "outlinewidth": 0,
              "ticks": ""
             }
            },
            "type": "scatterpolar"
           }
          ],
          "scatterpolargl": [
           {
            "marker": {
             "colorbar": {
              "outlinewidth": 0,
              "ticks": ""
             }
            },
            "type": "scatterpolargl"
           }
          ],
          "scatterternary": [
           {
            "marker": {
             "colorbar": {
              "outlinewidth": 0,
              "ticks": ""
             }
            },
            "type": "scatterternary"
           }
          ],
          "surface": [
           {
            "colorbar": {
             "outlinewidth": 0,
             "ticks": ""
            },
            "colorscale": [
             [
              0,
              "#0d0887"
             ],
             [
              0.1111111111111111,
              "#46039f"
             ],
             [
              0.2222222222222222,
              "#7201a8"
             ],
             [
              0.3333333333333333,
              "#9c179e"
             ],
             [
              0.4444444444444444,
              "#bd3786"
             ],
             [
              0.5555555555555556,
              "#d8576b"
             ],
             [
              0.6666666666666666,
              "#ed7953"
             ],
             [
              0.7777777777777778,
              "#fb9f3a"
             ],
             [
              0.8888888888888888,
              "#fdca26"
             ],
             [
              1,
              "#f0f921"
             ]
            ],
            "type": "surface"
           }
          ],
          "table": [
           {
            "cells": {
             "fill": {
              "color": "#EBF0F8"
             },
             "line": {
              "color": "white"
             }
            },
            "header": {
             "fill": {
              "color": "#C8D4E3"
             },
             "line": {
              "color": "white"
             }
            },
            "type": "table"
           }
          ]
         },
         "layout": {
          "annotationdefaults": {
           "arrowcolor": "#2a3f5f",
           "arrowhead": 0,
           "arrowwidth": 1
          },
          "coloraxis": {
           "colorbar": {
            "outlinewidth": 0,
            "ticks": ""
           }
          },
          "colorscale": {
           "diverging": [
            [
             0,
             "#8e0152"
            ],
            [
             0.1,
             "#c51b7d"
            ],
            [
             0.2,
             "#de77ae"
            ],
            [
             0.3,
             "#f1b6da"
            ],
            [
             0.4,
             "#fde0ef"
            ],
            [
             0.5,
             "#f7f7f7"
            ],
            [
             0.6,
             "#e6f5d0"
            ],
            [
             0.7,
             "#b8e186"
            ],
            [
             0.8,
             "#7fbc41"
            ],
            [
             0.9,
             "#4d9221"
            ],
            [
             1,
             "#276419"
            ]
           ],
           "sequential": [
            [
             0,
             "#0d0887"
            ],
            [
             0.1111111111111111,
             "#46039f"
            ],
            [
             0.2222222222222222,
             "#7201a8"
            ],
            [
             0.3333333333333333,
             "#9c179e"
            ],
            [
             0.4444444444444444,
             "#bd3786"
            ],
            [
             0.5555555555555556,
             "#d8576b"
            ],
            [
             0.6666666666666666,
             "#ed7953"
            ],
            [
             0.7777777777777778,
             "#fb9f3a"
            ],
            [
             0.8888888888888888,
             "#fdca26"
            ],
            [
             1,
             "#f0f921"
            ]
           ],
           "sequentialminus": [
            [
             0,
             "#0d0887"
            ],
            [
             0.1111111111111111,
             "#46039f"
            ],
            [
             0.2222222222222222,
             "#7201a8"
            ],
            [
             0.3333333333333333,
             "#9c179e"
            ],
            [
             0.4444444444444444,
             "#bd3786"
            ],
            [
             0.5555555555555556,
             "#d8576b"
            ],
            [
             0.6666666666666666,
             "#ed7953"
            ],
            [
             0.7777777777777778,
             "#fb9f3a"
            ],
            [
             0.8888888888888888,
             "#fdca26"
            ],
            [
             1,
             "#f0f921"
            ]
           ]
          },
          "colorway": [
           "#636efa",
           "#EF553B",
           "#00cc96",
           "#ab63fa",
           "#FFA15A",
           "#19d3f3",
           "#FF6692",
           "#B6E880",
           "#FF97FF",
           "#FECB52"
          ],
          "font": {
           "color": "#2a3f5f"
          },
          "geo": {
           "bgcolor": "white",
           "lakecolor": "white",
           "landcolor": "#E5ECF6",
           "showlakes": true,
           "showland": true,
           "subunitcolor": "white"
          },
          "hoverlabel": {
           "align": "left"
          },
          "hovermode": "closest",
          "mapbox": {
           "style": "light"
          },
          "paper_bgcolor": "white",
          "plot_bgcolor": "#E5ECF6",
          "polar": {
           "angularaxis": {
            "gridcolor": "white",
            "linecolor": "white",
            "ticks": ""
           },
           "bgcolor": "#E5ECF6",
           "radialaxis": {
            "gridcolor": "white",
            "linecolor": "white",
            "ticks": ""
           }
          },
          "scene": {
           "xaxis": {
            "backgroundcolor": "#E5ECF6",
            "gridcolor": "white",
            "gridwidth": 2,
            "linecolor": "white",
            "showbackground": true,
            "ticks": "",
            "zerolinecolor": "white"
           },
           "yaxis": {
            "backgroundcolor": "#E5ECF6",
            "gridcolor": "white",
            "gridwidth": 2,
            "linecolor": "white",
            "showbackground": true,
            "ticks": "",
            "zerolinecolor": "white"
           },
           "zaxis": {
            "backgroundcolor": "#E5ECF6",
            "gridcolor": "white",
            "gridwidth": 2,
            "linecolor": "white",
            "showbackground": true,
            "ticks": "",
            "zerolinecolor": "white"
           }
          },
          "shapedefaults": {
           "line": {
            "color": "#2a3f5f"
           }
          },
          "ternary": {
           "aaxis": {
            "gridcolor": "white",
            "linecolor": "white",
            "ticks": ""
           },
           "baxis": {
            "gridcolor": "white",
            "linecolor": "white",
            "ticks": ""
           },
           "bgcolor": "#E5ECF6",
           "caxis": {
            "gridcolor": "white",
            "linecolor": "white",
            "ticks": ""
           }
          },
          "title": {
           "x": 0.05
          },
          "xaxis": {
           "automargin": true,
           "gridcolor": "white",
           "linecolor": "white",
           "ticks": "",
           "title": {
            "standoff": 15
           },
           "zerolinecolor": "white",
           "zerolinewidth": 2
          },
          "yaxis": {
           "automargin": true,
           "gridcolor": "white",
           "linecolor": "white",
           "ticks": "",
           "title": {
            "standoff": 15
           },
           "zerolinecolor": "white",
           "zerolinewidth": 2
          }
         }
        },
        "xaxis": {
         "anchor": "y",
         "domain": [
          0,
          1
         ],
         "title": {
          "text": "NOME"
         }
        },
        "yaxis": {
         "anchor": "x",
         "domain": [
          0,
          1
         ],
         "title": {
          "text": "LÍQUIDO"
         }
        }
       }
      },
      "text/html": [
       "<div>\n",
       "        \n",
       "        \n",
       "            <div id=\"de86d60a-d844-49bd-be17-8a550e8b56b3\" class=\"plotly-graph-div\" style=\"height:525px; width:100%;\"></div>\n",
       "            <script type=\"text/javascript\">\n",
       "                require([\"plotly\"], function(Plotly) {\n",
       "                    window.PLOTLYENV=window.PLOTLYENV || {};\n",
       "                    \n",
       "                if (document.getElementById(\"de86d60a-d844-49bd-be17-8a550e8b56b3\")) {\n",
       "                    Plotly.newPlot(\n",
       "                        'de86d60a-d844-49bd-be17-8a550e8b56b3',\n",
       "                        [{\"alignmentgroup\": \"True\", \"hovertemplate\": \"NOME=%{x}<br>L\\u00cdQUIDO=%{marker.color}<extra></extra>\", \"legendgroup\": \"\", \"marker\": {\"color\": [640222.55, 570910.01, 567639.39, 557512.48, 434798.29, 393278.49, 352184.19, 319047.77, 316532.49, 316257.3], \"coloraxis\": \"coloraxis\"}, \"name\": \"\", \"offsetgroup\": \"\", \"orientation\": \"v\", \"showlegend\": false, \"textposition\": \"auto\", \"type\": \"bar\", \"x\": [\"ESEQUIEL SANTOS MOREIRA                           \", \"FERNANDO D'AUSTRIA E CARAVELLAS FILHO\", \"AGRICIO DA SILVA\", \"ALEXANDRE SERGIO VICENTE FERREIRA\", \"JUSCELINO CAMPOS DE OLIVEIRA                      \", \"WALTER PEREIRA DA SILVA\", \"GILSON SANTOS DE CASTRO\", \"TARCISIO DE SOUZA VASCONCELOS\", \"SIDELCINO SILVA DAS NEVES\", \"ALISSON BEZERRA DE CARVALHO\"], \"xaxis\": \"x\", \"y\": [640222.55, 570910.01, 567639.39, 557512.48, 434798.29, 393278.49, 352184.19, 319047.77, 316532.49, 316257.3], \"yaxis\": \"y\"}],\n",
       "                        {\"barmode\": \"relative\", \"coloraxis\": {\"colorbar\": {\"title\": {\"text\": \"L\\u00cdQUIDO\"}}, \"colorscale\": [[0.0, \"#0d0887\"], [0.1111111111111111, \"#46039f\"], [0.2222222222222222, \"#7201a8\"], [0.3333333333333333, \"#9c179e\"], [0.4444444444444444, \"#bd3786\"], [0.5555555555555556, \"#d8576b\"], [0.6666666666666666, \"#ed7953\"], [0.7777777777777778, \"#fb9f3a\"], [0.8888888888888888, \"#fdca26\"], [1.0, \"#f0f921\"]]}, \"legend\": {\"tracegroupgap\": 0}, \"margin\": {\"t\": 60}, \"template\": {\"data\": {\"bar\": [{\"error_x\": {\"color\": \"#2a3f5f\"}, \"error_y\": {\"color\": \"#2a3f5f\"}, \"marker\": {\"line\": {\"color\": \"#E5ECF6\", \"width\": 0.5}}, \"type\": \"bar\"}], \"barpolar\": [{\"marker\": {\"line\": {\"color\": \"#E5ECF6\", \"width\": 0.5}}, \"type\": \"barpolar\"}], \"carpet\": [{\"aaxis\": {\"endlinecolor\": \"#2a3f5f\", \"gridcolor\": \"white\", \"linecolor\": \"white\", \"minorgridcolor\": \"white\", \"startlinecolor\": \"#2a3f5f\"}, \"baxis\": {\"endlinecolor\": \"#2a3f5f\", \"gridcolor\": \"white\", \"linecolor\": \"white\", \"minorgridcolor\": \"white\", \"startlinecolor\": \"#2a3f5f\"}, \"type\": \"carpet\"}], \"choropleth\": [{\"colorbar\": {\"outlinewidth\": 0, \"ticks\": \"\"}, \"type\": \"choropleth\"}], \"contour\": [{\"colorbar\": {\"outlinewidth\": 0, \"ticks\": \"\"}, \"colorscale\": [[0.0, \"#0d0887\"], [0.1111111111111111, \"#46039f\"], [0.2222222222222222, \"#7201a8\"], [0.3333333333333333, \"#9c179e\"], [0.4444444444444444, \"#bd3786\"], [0.5555555555555556, \"#d8576b\"], [0.6666666666666666, \"#ed7953\"], [0.7777777777777778, \"#fb9f3a\"], [0.8888888888888888, \"#fdca26\"], [1.0, \"#f0f921\"]], \"type\": \"contour\"}], \"contourcarpet\": [{\"colorbar\": {\"outlinewidth\": 0, \"ticks\": \"\"}, \"type\": \"contourcarpet\"}], \"heatmap\": [{\"colorbar\": {\"outlinewidth\": 0, \"ticks\": \"\"}, \"colorscale\": [[0.0, \"#0d0887\"], [0.1111111111111111, \"#46039f\"], [0.2222222222222222, \"#7201a8\"], [0.3333333333333333, \"#9c179e\"], [0.4444444444444444, \"#bd3786\"], [0.5555555555555556, \"#d8576b\"], [0.6666666666666666, \"#ed7953\"], [0.7777777777777778, \"#fb9f3a\"], [0.8888888888888888, \"#fdca26\"], [1.0, \"#f0f921\"]], \"type\": \"heatmap\"}], \"heatmapgl\": [{\"colorbar\": {\"outlinewidth\": 0, \"ticks\": \"\"}, \"colorscale\": [[0.0, \"#0d0887\"], [0.1111111111111111, \"#46039f\"], [0.2222222222222222, \"#7201a8\"], [0.3333333333333333, \"#9c179e\"], [0.4444444444444444, \"#bd3786\"], [0.5555555555555556, \"#d8576b\"], [0.6666666666666666, \"#ed7953\"], [0.7777777777777778, \"#fb9f3a\"], [0.8888888888888888, \"#fdca26\"], [1.0, \"#f0f921\"]], \"type\": \"heatmapgl\"}], \"histogram\": [{\"marker\": {\"colorbar\": {\"outlinewidth\": 0, \"ticks\": \"\"}}, \"type\": \"histogram\"}], \"histogram2d\": [{\"colorbar\": {\"outlinewidth\": 0, \"ticks\": \"\"}, \"colorscale\": [[0.0, \"#0d0887\"], [0.1111111111111111, \"#46039f\"], [0.2222222222222222, \"#7201a8\"], [0.3333333333333333, \"#9c179e\"], [0.4444444444444444, \"#bd3786\"], [0.5555555555555556, \"#d8576b\"], [0.6666666666666666, \"#ed7953\"], [0.7777777777777778, \"#fb9f3a\"], [0.8888888888888888, \"#fdca26\"], [1.0, \"#f0f921\"]], \"type\": \"histogram2d\"}], \"histogram2dcontour\": [{\"colorbar\": {\"outlinewidth\": 0, \"ticks\": \"\"}, \"colorscale\": [[0.0, \"#0d0887\"], [0.1111111111111111, \"#46039f\"], [0.2222222222222222, \"#7201a8\"], [0.3333333333333333, \"#9c179e\"], [0.4444444444444444, \"#bd3786\"], [0.5555555555555556, \"#d8576b\"], [0.6666666666666666, \"#ed7953\"], [0.7777777777777778, \"#fb9f3a\"], [0.8888888888888888, \"#fdca26\"], [1.0, \"#f0f921\"]], \"type\": \"histogram2dcontour\"}], \"mesh3d\": [{\"colorbar\": {\"outlinewidth\": 0, \"ticks\": \"\"}, \"type\": \"mesh3d\"}], \"parcoords\": [{\"line\": {\"colorbar\": {\"outlinewidth\": 0, \"ticks\": \"\"}}, \"type\": \"parcoords\"}], \"pie\": [{\"automargin\": true, \"type\": \"pie\"}], \"scatter\": [{\"marker\": {\"colorbar\": {\"outlinewidth\": 0, \"ticks\": \"\"}}, \"type\": \"scatter\"}], \"scatter3d\": [{\"line\": {\"colorbar\": {\"outlinewidth\": 0, \"ticks\": \"\"}}, \"marker\": {\"colorbar\": {\"outlinewidth\": 0, \"ticks\": \"\"}}, \"type\": \"scatter3d\"}], \"scattercarpet\": [{\"marker\": {\"colorbar\": {\"outlinewidth\": 0, \"ticks\": \"\"}}, \"type\": \"scattercarpet\"}], \"scattergeo\": [{\"marker\": {\"colorbar\": {\"outlinewidth\": 0, \"ticks\": \"\"}}, \"type\": \"scattergeo\"}], \"scattergl\": [{\"marker\": {\"colorbar\": {\"outlinewidth\": 0, \"ticks\": \"\"}}, \"type\": \"scattergl\"}], \"scattermapbox\": [{\"marker\": {\"colorbar\": {\"outlinewidth\": 0, \"ticks\": \"\"}}, \"type\": \"scattermapbox\"}], \"scatterpolar\": [{\"marker\": {\"colorbar\": {\"outlinewidth\": 0, \"ticks\": \"\"}}, \"type\": \"scatterpolar\"}], \"scatterpolargl\": [{\"marker\": {\"colorbar\": {\"outlinewidth\": 0, \"ticks\": \"\"}}, \"type\": \"scatterpolargl\"}], \"scatterternary\": [{\"marker\": {\"colorbar\": {\"outlinewidth\": 0, \"ticks\": \"\"}}, \"type\": \"scatterternary\"}], \"surface\": [{\"colorbar\": {\"outlinewidth\": 0, \"ticks\": \"\"}, \"colorscale\": [[0.0, \"#0d0887\"], [0.1111111111111111, \"#46039f\"], [0.2222222222222222, \"#7201a8\"], [0.3333333333333333, \"#9c179e\"], [0.4444444444444444, \"#bd3786\"], [0.5555555555555556, \"#d8576b\"], [0.6666666666666666, \"#ed7953\"], [0.7777777777777778, \"#fb9f3a\"], [0.8888888888888888, \"#fdca26\"], [1.0, \"#f0f921\"]], \"type\": \"surface\"}], \"table\": [{\"cells\": {\"fill\": {\"color\": \"#EBF0F8\"}, \"line\": {\"color\": \"white\"}}, \"header\": {\"fill\": {\"color\": \"#C8D4E3\"}, \"line\": {\"color\": \"white\"}}, \"type\": \"table\"}]}, \"layout\": {\"annotationdefaults\": {\"arrowcolor\": \"#2a3f5f\", \"arrowhead\": 0, \"arrowwidth\": 1}, \"coloraxis\": {\"colorbar\": {\"outlinewidth\": 0, \"ticks\": \"\"}}, \"colorscale\": {\"diverging\": [[0, \"#8e0152\"], [0.1, \"#c51b7d\"], [0.2, \"#de77ae\"], [0.3, \"#f1b6da\"], [0.4, \"#fde0ef\"], [0.5, \"#f7f7f7\"], [0.6, \"#e6f5d0\"], [0.7, \"#b8e186\"], [0.8, \"#7fbc41\"], [0.9, \"#4d9221\"], [1, \"#276419\"]], \"sequential\": [[0.0, \"#0d0887\"], [0.1111111111111111, \"#46039f\"], [0.2222222222222222, \"#7201a8\"], [0.3333333333333333, \"#9c179e\"], [0.4444444444444444, \"#bd3786\"], [0.5555555555555556, \"#d8576b\"], [0.6666666666666666, \"#ed7953\"], [0.7777777777777778, \"#fb9f3a\"], [0.8888888888888888, \"#fdca26\"], [1.0, \"#f0f921\"]], \"sequentialminus\": [[0.0, \"#0d0887\"], [0.1111111111111111, \"#46039f\"], [0.2222222222222222, \"#7201a8\"], [0.3333333333333333, \"#9c179e\"], [0.4444444444444444, \"#bd3786\"], [0.5555555555555556, \"#d8576b\"], [0.6666666666666666, \"#ed7953\"], [0.7777777777777778, \"#fb9f3a\"], [0.8888888888888888, \"#fdca26\"], [1.0, \"#f0f921\"]]}, \"colorway\": [\"#636efa\", \"#EF553B\", \"#00cc96\", \"#ab63fa\", \"#FFA15A\", \"#19d3f3\", \"#FF6692\", \"#B6E880\", \"#FF97FF\", \"#FECB52\"], \"font\": {\"color\": \"#2a3f5f\"}, \"geo\": {\"bgcolor\": \"white\", \"lakecolor\": \"white\", \"landcolor\": \"#E5ECF6\", \"showlakes\": true, \"showland\": true, \"subunitcolor\": \"white\"}, \"hoverlabel\": {\"align\": \"left\"}, \"hovermode\": \"closest\", \"mapbox\": {\"style\": \"light\"}, \"paper_bgcolor\": \"white\", \"plot_bgcolor\": \"#E5ECF6\", \"polar\": {\"angularaxis\": {\"gridcolor\": \"white\", \"linecolor\": \"white\", \"ticks\": \"\"}, \"bgcolor\": \"#E5ECF6\", \"radialaxis\": {\"gridcolor\": \"white\", \"linecolor\": \"white\", \"ticks\": \"\"}}, \"scene\": {\"xaxis\": {\"backgroundcolor\": \"#E5ECF6\", \"gridcolor\": \"white\", \"gridwidth\": 2, \"linecolor\": \"white\", \"showbackground\": true, \"ticks\": \"\", \"zerolinecolor\": \"white\"}, \"yaxis\": {\"backgroundcolor\": \"#E5ECF6\", \"gridcolor\": \"white\", \"gridwidth\": 2, \"linecolor\": \"white\", \"showbackground\": true, \"ticks\": \"\", \"zerolinecolor\": \"white\"}, \"zaxis\": {\"backgroundcolor\": \"#E5ECF6\", \"gridcolor\": \"white\", \"gridwidth\": 2, \"linecolor\": \"white\", \"showbackground\": true, \"ticks\": \"\", \"zerolinecolor\": \"white\"}}, \"shapedefaults\": {\"line\": {\"color\": \"#2a3f5f\"}}, \"ternary\": {\"aaxis\": {\"gridcolor\": \"white\", \"linecolor\": \"white\", \"ticks\": \"\"}, \"baxis\": {\"gridcolor\": \"white\", \"linecolor\": \"white\", \"ticks\": \"\"}, \"bgcolor\": \"#E5ECF6\", \"caxis\": {\"gridcolor\": \"white\", \"linecolor\": \"white\", \"ticks\": \"\"}}, \"title\": {\"x\": 0.05}, \"xaxis\": {\"automargin\": true, \"gridcolor\": \"white\", \"linecolor\": \"white\", \"ticks\": \"\", \"title\": {\"standoff\": 15}, \"zerolinecolor\": \"white\", \"zerolinewidth\": 2}, \"yaxis\": {\"automargin\": true, \"gridcolor\": \"white\", \"linecolor\": \"white\", \"ticks\": \"\", \"title\": {\"standoff\": 15}, \"zerolinecolor\": \"white\", \"zerolinewidth\": 2}}}, \"xaxis\": {\"anchor\": \"y\", \"domain\": [0.0, 1.0], \"title\": {\"text\": \"NOME\"}}, \"yaxis\": {\"anchor\": \"x\", \"domain\": [0.0, 1.0], \"title\": {\"text\": \"L\\u00cdQUIDO\"}}},\n",
       "                        {\"responsive\": true}\n",
       "                    ).then(function(){\n",
       "                            \n",
       "var gd = document.getElementById('de86d60a-d844-49bd-be17-8a550e8b56b3');\n",
       "var x = new MutationObserver(function (mutations, observer) {{\n",
       "        var display = window.getComputedStyle(gd).display;\n",
       "        if (!display || display === 'none') {{\n",
       "            console.log([gd, 'removed!']);\n",
       "            Plotly.purge(gd);\n",
       "            observer.disconnect();\n",
       "        }}\n",
       "}});\n",
       "\n",
       "// Listen for the removal of the full notebook cells\n",
       "var notebookContainer = gd.closest('#notebook-container');\n",
       "if (notebookContainer) {{\n",
       "    x.observe(notebookContainer, {childList: true});\n",
       "}}\n",
       "\n",
       "// Listen for the clearing of the current output cell\n",
       "var outputEl = gd.closest('.output');\n",
       "if (outputEl) {{\n",
       "    x.observe(outputEl, {childList: true});\n",
       "}}\n",
       "\n",
       "                        })\n",
       "                };\n",
       "                });\n",
       "            </script>\n",
       "        </div>"
      ]
     },
     "metadata": {},
     "output_type": "display_data"
    }
   ],
   "source": [
    "fig = px.bar(TOP5_SALARIOS, x=\"NOME\", y=\"LÍQUIDO\", color=\"LÍQUIDO\")\n",
    "fig.show()"
   ]
  },
  {
   "cell_type": "code",
   "execution_count": null,
   "metadata": {},
   "outputs": [],
   "source": []
  }
 ],
 "metadata": {
  "kernelspec": {
   "display_name": "Python 3",
   "language": "python",
   "name": "python3"
  },
  "language_info": {
   "codemirror_mode": {
    "name": "ipython",
    "version": 3
   },
   "file_extension": ".py",
   "mimetype": "text/x-python",
   "name": "python",
   "nbconvert_exporter": "python",
   "pygments_lexer": "ipython3",
   "version": "3.7.6"
  }
 },
 "nbformat": 4,
 "nbformat_minor": 4
}
